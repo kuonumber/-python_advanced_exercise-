{
  "nbformat": 4,
  "nbformat_minor": 0,
  "metadata": {
    "colab": {
      "name": "Adv_python_muti_worker.ipynb",
      "provenance": [],
      "toc_visible": true,
      "authorship_tag": "ABX9TyPYHvjQ6tcNJjXxWEtlzmnZ",
      "include_colab_link": true
    },
    "kernelspec": {
      "name": "python3",
      "display_name": "Python 3"
    },
    "language_info": {
      "name": "python"
    }
  },
  "cells": [
    {
      "cell_type": "markdown",
      "metadata": {
        "id": "view-in-github",
        "colab_type": "text"
      },
      "source": [
        "<a href=\"https://colab.research.google.com/github/kuonumber/python_advanced_exercise/blob/master/Adv_python_muti_worker.ipynb\" target=\"_parent\"><img src=\"https://colab.research.google.com/assets/colab-badge.svg\" alt=\"Open In Colab\"/></a>"
      ]
    },
    {
      "cell_type": "code",
      "metadata": {
        "id": "D5gV2_xqaowC"
      },
      "source": [
        "import time\n",
        "import threading"
      ],
      "execution_count": null,
      "outputs": []
    },
    {
      "cell_type": "markdown",
      "metadata": {
        "id": "-OoWMl7Dtg4U"
      },
      "source": [
        "[線上課本](https://www.xzjdzkj.com/)"
      ]
    },
    {
      "cell_type": "code",
      "metadata": {
        "id": "nlmFmKQEJZh0"
      },
      "source": [
        "def sing():\n",
        "    for i in range(5):\n",
        "        print('sing a song')\n",
        "        print('--%d--' %i)\n",
        "        time.sleep(1)\n",
        "\n",
        "\n",
        "def dance():\n",
        "    for i in range(10):     \n",
        "        print('dacing queen')\n",
        "        print('--%d--' %i)\n",
        "        time.sleep(1)\n"
      ],
      "execution_count": null,
      "outputs": []
    },
    {
      "cell_type": "markdown",
      "metadata": {
        "id": "41JYYAK3BuMV"
      },
      "source": [
        "#Threading"
      ]
    },
    {
      "cell_type": "markdown",
      "metadata": {
        "id": "EGygfSr3atTK"
      },
      "source": [
        "[python-semaphore-does-not-seem-to-work-in-google-colab](https://stackoverflow.com/questions/56720478/python-semaphore-does-not-seem-to-work-in-google-colab)"
      ]
    },
    {
      "cell_type": "code",
      "metadata": {
        "id": "-mG1Y0_-aq-d"
      },
      "source": [
        "\n",
        "def main():\n",
        "    t1 =  threading.Thread(target=sing)\n",
        "    t2 =  threading.Thread(target=dance)\n",
        "    threads.append(t1)\n",
        "    threads.append(t2)\n",
        "    t1.start()\n",
        "    t2.start()\n",
        "\n",
        "    for t in threads:\n",
        "        # print(threading.enumerate())\n",
        "        t.join()\n",
        "        print(threading.enumerate())\n",
        "        time.sleep(1)"
      ],
      "execution_count": null,
      "outputs": []
    },
    {
      "cell_type": "code",
      "metadata": {
        "id": "5GGHXfZjzWOK"
      },
      "source": [
        "main()"
      ],
      "execution_count": null,
      "outputs": []
    },
    {
      "cell_type": "code",
      "metadata": {
        "id": "6V9kmk3NfRzh"
      },
      "source": [
        "!cat /proc/cpuinfo"
      ],
      "execution_count": null,
      "outputs": []
    },
    {
      "cell_type": "code",
      "metadata": {
        "id": "Ho5JYluRspBI"
      },
      "source": [
        "class MyThread(threading.Thread):\n",
        "    def run(self):\n",
        "        threads = list()\n",
        "\n",
        "        for i in range(3):\n",
        "            time.sleep(1)\n",
        "            msg = \"I am \" + self.name + \"@\" + str(i)\n",
        "            print(msg)\n",
        "    "
      ],
      "execution_count": null,
      "outputs": []
    },
    {
      "cell_type": "code",
      "metadata": {
        "colab": {
          "base_uri": "https://localhost:8080/"
        },
        "id": "Vi86r8NL65El",
        "outputId": "9165c759-a2b5-4375-dd74-cf0646de8a73"
      },
      "source": [
        "thread = list(\n",
        "\n",
        "t =  MyThread()\n",
        "threads.append(t)\n",
        "t.start()\n",
        "\n",
        "for t in threads:\n",
        "    # print(threading.enumerate())\n",
        "    t.join( )"
      ],
      "execution_count": null,
      "outputs": [
        {
          "output_type": "stream",
          "text": [
            "I am Thread-17@0\n",
            "I am Thread-17@1\n",
            "I am Thread-17@2\n"
          ],
          "name": "stdout"
        }
      ]
    },
    {
      "cell_type": "markdown",
      "metadata": {
        "id": "WCC0e5veCjTT"
      },
      "source": [
        "# global variable "
      ]
    },
    {
      "cell_type": "code",
      "metadata": {
        "id": "IQugRNzD7akF"
      },
      "source": [
        "num=2\n",
        "\n",
        "def test1():\n",
        "    global num\n",
        "    num +=1\n",
        "    print(num)\n",
        "\n",
        "def test2():\n",
        "    print(num)\n",
        "\n"
      ],
      "execution_count": null,
      "outputs": []
    },
    {
      "cell_type": "code",
      "metadata": {
        "colab": {
          "base_uri": "https://localhost:8080/"
        },
        "id": "vXqMFU2PDio7",
        "outputId": "cc3f38f6-db9a-45ae-c91f-49c741313990"
      },
      "source": [
        "thread = list()\n",
        "\n",
        "t1 =  threading.Thread(target=test1)\n",
        "t1.start()\n",
        "time.sleep(1)\n",
        "\n",
        "t2 =  threading.Thread(target=test2)\n",
        "t2.start()\n",
        "\n",
        "threads.append(t)\n",
        "\n",
        "for t in threads:\n",
        "    t.join()\n",
        "\n",
        "time.sleep(1)\n",
        "print(num)"
      ],
      "execution_count": null,
      "outputs": [
        {
          "output_type": "stream",
          "text": [
            "3\n",
            "3\n",
            "3\n"
          ],
          "name": "stdout"
        }
      ]
    },
    {
      "cell_type": "code",
      "metadata": {
        "id": "9Ls5EL9cEDkl"
      },
      "source": [
        ""
      ],
      "execution_count": null,
      "outputs": []
    },
    {
      "cell_type": "markdown",
      "metadata": {
        "id": "qW2BQ8fSP_dO"
      },
      "source": [
        "# thread with args"
      ]
    },
    {
      "cell_type": "code",
      "metadata": {
        "id": "O77QVP7jQGFn"
      },
      "source": [
        "num= [22,33,44]\n",
        "\n",
        "def test1(var1):\n",
        "    num.append(var1)\n",
        "    print(str(num))\n",
        "\n",
        "def test2(var2):\n",
        "    num.append(var2)\n",
        "    print(str(num))\n"
      ],
      "execution_count": null,
      "outputs": []
    },
    {
      "cell_type": "code",
      "metadata": {
        "colab": {
          "base_uri": "https://localhost:8080/"
        },
        "id": "It7_WGKPRQCU",
        "outputId": "4d8ebada-f74e-4661-d12b-8b689c59e39c"
      },
      "source": [
        "thread = list()\n",
        "\n",
        "t1 =  threading.Thread(target=test1, args=(11, ))\n",
        "t1.start()\n",
        "time.sleep(1)\n",
        "\n",
        "t2 =  threading.Thread(target=test2, args=(55, ))\n",
        "t2.start()\n",
        "\n",
        "threads.append(t)\n",
        "\n",
        "for t in threads:\n",
        "    t.join()\n",
        "\n",
        "time.sleep(1)\n",
        "print(num)"
      ],
      "execution_count": null,
      "outputs": [
        {
          "output_type": "stream",
          "text": [
            "[22, 33, 44, 11, 44, 11]\n",
            "[22, 33, 44, 11, 44, 11, 55]\n",
            "[22, 33, 44, 11, 44, 11, 55]\n"
          ],
          "name": "stdout"
        }
      ]
    },
    {
      "cell_type": "code",
      "metadata": {
        "id": "kZByL2O4RXot"
      },
      "source": [
        "gnum= 0\n",
        "\n",
        "def test1(num):\n",
        "    global gnum\n",
        "    mutex.acquire()\n",
        "    for i in range(num):\n",
        "        gnum += 1\n",
        "    print(str(gnum))\n",
        "    mutex.release()\n",
        "def test2(num):\n",
        "    global gnum\n",
        "    mutex.acquire()\n",
        "    for i in range(num):\n",
        "        gnum += 1\n",
        "    print(str(gnum))\n",
        "    mutex.release()"
      ],
      "execution_count": null,
      "outputs": []
    },
    {
      "cell_type": "code",
      "metadata": {
        "colab": {
          "base_uri": "https://localhost:8080/"
        },
        "id": "eFF7Un9MG8rZ",
        "outputId": "5750b91b-a6e9-406f-b4b7-c3784267c91a"
      },
      "source": [
        "mutex = threading.Lock()\n",
        "\n",
        "thread = list()\n",
        "\n",
        "t1 =  threading.Thread(target=test1, args=(1000000,))\n",
        "t1.start()\n",
        "# time.sleep(1)\n",
        "\n",
        "t2 =  threading.Thread(target=test2, args=(1000000,))\n",
        "t2.start()\n",
        "\n",
        "threads.append(t)\n",
        "\n",
        "for t in threads:\n",
        "    t.join()\n",
        "\n",
        "time.sleep(1)\n",
        "print(gnum)"
      ],
      "execution_count": null,
      "outputs": [
        {
          "output_type": "stream",
          "text": [
            "1000000\n",
            "2000000\n",
            "2000000\n"
          ],
          "name": "stdout"
        }
      ]
    },
    {
      "cell_type": "code",
      "metadata": {
        "id": "e0FIJZYgm-in"
      },
      "source": [
        ""
      ],
      "execution_count": null,
      "outputs": []
    },
    {
      "cell_type": "code",
      "metadata": {
        "id": "JhB7KOtLHM-r"
      },
      "source": [
        ""
      ],
      "execution_count": null,
      "outputs": []
    },
    {
      "cell_type": "markdown",
      "metadata": {
        "id": "U03YLjtMmZjC"
      },
      "source": [
        "# Processing"
      ]
    },
    {
      "cell_type": "code",
      "metadata": {
        "id": "dgmAe6lkmdJI"
      },
      "source": [
        "import multiprocessing"
      ],
      "execution_count": null,
      "outputs": []
    },
    {
      "cell_type": "code",
      "metadata": {
        "colab": {
          "base_uri": "https://localhost:8080/"
        },
        "id": "_dB7ThZKmfcz",
        "outputId": "1b73276f-2ab3-46a8-c77f-b1a643270243"
      },
      "source": [
        "!ps -aux"
      ],
      "execution_count": null,
      "outputs": [
        {
          "output_type": "stream",
          "text": [
            "USER         PID %CPU %MEM    VSZ   RSS TTY      STAT START   TIME COMMAND\n",
            "root           1  0.2  0.3 339816 49924 ?        Rsl  00:53   0:01 /tools/node/b\n",
            "root          15  0.0  0.0  35896  4712 ?        Ss   00:54   0:00 tail -n +0 -F\n",
            "root          48  0.2  0.4 193900 59912 ?        Rl   00:54   0:01 /usr/bin/pyth\n",
            "root          49  0.0  0.0 709672  9684 ?        Sl   00:54   0:00 /usr/local/bi\n",
            "root          60  1.6  0.8 701524 117168 ?       Ssl  01:02   0:02 /usr/bin/pyth\n",
            "root          80  0.2  0.1 127904 15724 ?        Sl   01:02   0:00 /usr/bin/pyth\n",
            "root         145  0.0  0.0      0     0 ?        Z    01:04   0:00 [python3] <de\n",
            "root         148  0.0  0.0      0     0 ?        Z    01:04   0:00 [python3] <de\n",
            "root         170  0.0  0.0  59040  6332 ?        R    01:04   0:00 ps -aux\n"
          ],
          "name": "stdout"
        }
      ]
    },
    {
      "cell_type": "code",
      "metadata": {
        "id": "rvaGLuGemzM6"
      },
      "source": [
        "\n",
        "gnum= 0\n",
        "\n",
        "def test1(num):\n",
        "    global gnum\n",
        "    for i in range(num):\n",
        "        gnum += 1\n",
        "        print(str(gnum))\n",
        "    time.sleep(1)\n",
        "\n",
        "\n",
        "\n",
        "def test2(num):\n",
        "    global gnum\n",
        "    for i in range(num):\n",
        "        gnum += 1\n",
        "        print(str(gnum))\n",
        "    time.sleep(1)\n"
      ],
      "execution_count": null,
      "outputs": []
    },
    {
      "cell_type": "code",
      "metadata": {
        "colab": {
          "base_uri": "https://localhost:8080/"
        },
        "id": "mKfsx_W8m7gg",
        "outputId": "66275d86-f2d5-4bc5-f65c-46365e1aebdc"
      },
      "source": [
        "\n",
        "# thread = list()\n",
        "\n",
        "p1 =  multiprocessing.Process(target=test1, args=(5,))\n",
        "p2 =  multiprocessing.Process(target=test2, args=(5,))\n",
        "p1.start()\n",
        "p2.start()\n",
        "\n",
        "# threads.append(t)\n",
        "\n",
        "# for t in threads:\n",
        "    # t.join()\n",
        "\n",
        "time.sleep(1)\n",
        "print(gnum)"
      ],
      "execution_count": null,
      "outputs": [
        {
          "output_type": "stream",
          "text": [
            "1\n",
            "1\n",
            "2\n",
            "2\n",
            "3\n",
            "3\n",
            "4\n",
            "4\n",
            "5\n",
            "5\n",
            "0\n"
          ],
          "name": "stdout"
        }
      ]
    },
    {
      "cell_type": "code",
      "metadata": {
        "colab": {
          "base_uri": "https://localhost:8080/"
        },
        "id": "M8fEdeoNnkGl",
        "outputId": "821afefa-4f48-4dde-c17b-b5d9f28c8ac3"
      },
      "source": [
        "!ps -aux"
      ],
      "execution_count": null,
      "outputs": [
        {
          "output_type": "stream",
          "text": [
            "USER         PID %CPU %MEM    VSZ   RSS TTY      STAT START   TIME COMMAND\n",
            "root           1  0.2  0.3 339816 49600 ?        Ssl  00:53   0:01 /tools/node/b\n",
            "root          15  0.0  0.0  35896  4712 ?        Ss   00:54   0:00 tail -n +0 -F\n",
            "root          48  0.2  0.4 193900 59916 ?        Sl   00:54   0:01 /usr/bin/pyth\n",
            "root          49  0.0  0.0 709672 10120 ?        Sl   00:54   0:00 /usr/local/bi\n",
            "root          60  1.6  0.8 701780 117300 ?       Ssl  01:02   0:02 /usr/bin/pyth\n",
            "root          80  0.2  0.1 127904 15724 ?        Sl   01:02   0:00 /usr/bin/pyth\n",
            "root         173  0.0  0.0      0     0 ?        Z    01:04   0:00 [python3] <de\n",
            "root         176  0.0  0.6 611624 92372 ?        S    01:04   0:00 /usr/bin/pyth\n",
            "root         195  0.0  0.0  59040  6336 ?        R    01:04   0:00 ps -aux\n"
          ],
          "name": "stdout"
        }
      ]
    },
    {
      "cell_type": "code",
      "metadata": {
        "id": "SBHcnLcxDJgf"
      },
      "source": [
        ""
      ],
      "execution_count": null,
      "outputs": []
    },
    {
      "cell_type": "markdown",
      "metadata": {
        "id": "raYHJNAVqYzI"
      },
      "source": [
        "## Queue"
      ]
    },
    {
      "cell_type": "code",
      "metadata": {
        "id": "8G6oDcTQmUX9"
      },
      "source": [
        "def download_from_web(q):\n",
        "    data  = [2, 3 , 4, 5]\n",
        "    for d in data:\n",
        "        q.put(d)\n",
        "    print('already download all data')\n",
        "\n",
        "\n",
        "def read_data(q):\n",
        "    list_data = list()\n",
        "    while True:\n",
        "        list_data.append(q.get())\n",
        "        if q.empty(): break\n",
        "    print(list_data)"
      ],
      "execution_count": null,
      "outputs": []
    },
    {
      "cell_type": "code",
      "metadata": {
        "id": "yX31ZOJ_mgEW"
      },
      "source": [
        "q = multiprocessing.Queue()\n",
        "p1 = multiprocessing.Process(target=download_from_web, args=(q, ))\n",
        "p2 = multiprocessing.Process(target=read_data, args=(q, ))"
      ],
      "execution_count": null,
      "outputs": []
    },
    {
      "cell_type": "code",
      "metadata": {
        "colab": {
          "base_uri": "https://localhost:8080/"
        },
        "id": "Rdg-ZPIMpsZE",
        "outputId": "50e6faa4-e2eb-4818-a510-c67cedaeb29e"
      },
      "source": [
        "p1.start()\n",
        "p2.start()"
      ],
      "execution_count": null,
      "outputs": [
        {
          "output_type": "stream",
          "text": [
            "already download all data\n",
            "[2, 3, 4, 5]\n"
          ],
          "name": "stdout"
        }
      ]
    },
    {
      "cell_type": "markdown",
      "metadata": {
        "id": "pi5J9jwFykvl"
      },
      "source": [
        "#  multiprocess pool\n"
      ]
    },
    {
      "cell_type": "code",
      "metadata": {
        "id": "VSUAFBempza_"
      },
      "source": [
        "from multiprocessing import Pool"
      ],
      "execution_count": null,
      "outputs": []
    },
    {
      "cell_type": "code",
      "metadata": {
        "id": "51DAkTuNypOx"
      },
      "source": [
        "po= Pool(3)"
      ],
      "execution_count": null,
      "outputs": []
    },
    {
      "cell_type": "code",
      "metadata": {
        "id": "MYGae5b8Qna3"
      },
      "source": [
        "def copy_prac():\n",
        "    '''\n",
        "\n",
        "    '''"
      ],
      "execution_count": null,
      "outputs": []
    },
    {
      "cell_type": "code",
      "metadata": {
        "id": "LVfVBS3dy46C"
      },
      "source": [
        "for i in range(10):\n",
        "po.apply_async()"
      ],
      "execution_count": null,
      "outputs": []
    }
  ]
}